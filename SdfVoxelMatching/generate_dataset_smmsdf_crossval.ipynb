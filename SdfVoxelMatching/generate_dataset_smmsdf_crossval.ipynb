{
 "cells": [
  {
   "cell_type": "code",
   "execution_count": 1,
   "id": "d1561fa5-6591-4a34-a658-b06a18a7a4d0",
   "metadata": {},
   "outputs": [
    {
     "name": "stdout",
     "output_type": "stream",
     "text": [
      "Jupyter environment detected. Enabling Open3D WebVisualizer.\n",
      "[Open3D INFO] WebRTC GUI backend enabled.\n",
      "[Open3D INFO] WebRTCWindowSystem: HTTP handshake server disabled.\n"
     ]
    }
   ],
   "source": [
    "# from typing import Tuple\n",
    "# import torch\n",
    "# from torch.utils import data\n",
    "# import pathlib\n",
    "\n",
    "# import trimesh\n",
    "# from trimesh.sample import sample_surface\n",
    "# import pysdf\n",
    "# import numpy as np\n",
    "# import math\n",
    "\n",
    "# import os\n",
    "# import numpy as np\n",
    "# import nibabel as nib\n",
    "# import random\n",
    "import sys\n",
    "import generate_dataset_crossval\n",
    "sys.path.append(\"../../Statistical Thyroid Model/Functional_maps_approach\")\n",
    "from eigenshapes_inputfile import eigenshapes\n",
    "#from eval_ssm_davies import SSM"
   ]
  },
  {
   "cell_type": "code",
   "execution_count": 63,
   "id": "91db5244-0be9-4cb9-b433-60b0ee1ed25e",
   "metadata": {},
   "outputs": [],
   "source": [
    "mat_path = '/home/dilab/dilab_data/Thyroid Registration/Statistical Thyroid Model/Functional_maps_approach/data/out/2022_10_31_10_49_21/mat'\n",
    "outdir =  \"/home/dilab/dilab_data/data/data_ssmsdf/cross_validation/std0.5/1fold/mean/\""
   ]
  },
  {
   "cell_type": "code",
   "execution_count": 64,
   "id": "ab5314b8-10a7-450f-8c43-392edda8ff66",
   "metadata": {},
   "outputs": [
    {
     "name": "stdout",
     "output_type": "stream",
     "text": [
      "['out_0_0.mat', 'out_0_2.mat', 'out_0_4.mat', 'out_0_6.mat', 'out_0_8.mat', 'out_0_10.mat', 'out_0_12.mat', 'out_0_14.mat', 'out_0_16.mat', 'out_0_18.mat', 'out_0_20.mat', 'out_0_22.mat', 'out_0_24.mat']\n",
      "rank of covariance matrix: 12\n"
     ]
    }
   ],
   "source": [
    "generate_dataset_crossval.generatemeanshape(mat_path,  outdir, [13, 16])"
   ]
  },
  {
   "cell_type": "code",
   "execution_count": 66,
   "id": "7d090f66-da1f-48e4-94c6-83aed59b2805",
   "metadata": {},
   "outputs": [
    {
     "name": "stdout",
     "output_type": "stream",
     "text": [
      "torch.Size([13, 4950, 3])\n",
      "torch.Size([1, 4950, 3])\n"
     ]
    }
   ],
   "source": [
    "print(torch.load(f\"{outdir}/corr_mesh_verts\").shape)\n",
    "print(torch.load(f\"{outdir}/SSMverts\").shape)"
   ]
  },
  {
   "cell_type": "code",
   "execution_count": 68,
   "id": "29c5a315-1fd6-4c1e-9be8-8b9b2769d0d7",
   "metadata": {},
   "outputs": [],
   "source": [
    "outdir = \"/home/dilab/dilab_data/data/data_ssmsdf/cross_validation/std0.5/1fold/sdf_train/\""
   ]
  },
  {
   "cell_type": "code",
   "execution_count": null,
   "id": "b6549299-dd79-429c-80f2-b60170d8d810",
   "metadata": {},
   "outputs": [
    {
     "name": "stdout",
     "output_type": "stream",
     "text": [
      "['out_0_0.mat', 'out_0_2.mat', 'out_0_4.mat', 'out_0_6.mat', 'out_0_8.mat', 'out_0_10.mat', 'out_0_12.mat', 'out_0_14.mat', 'out_0_16.mat', 'out_0_18.mat', 'out_0_20.mat', 'out_0_22.mat', 'out_0_24.mat']\n",
      "rank of covariance matrix: 12\n",
      "[ 0.88202617  0.2000786   0.48936899  1.1204466   0.933779   -0.48863894\n",
      "  0.47504421 -0.0756786  -0.05160943  0.20529925  0.07202179  0.72713675]\n"
     ]
    }
   ],
   "source": [
    "numSSMsamp = 200\n",
    "generate_dataset_crossval.SSMsample2sdf(numSSMsamp, mat_path, outdir, [13,16], std = 0.5)"
   ]
  },
  {
   "cell_type": "code",
   "execution_count": null,
   "id": "e6b403b0-b735-4c30-975e-6decac3ab220",
   "metadata": {},
   "outputs": [],
   "source": []
  },
  {
   "cell_type": "code",
   "execution_count": null,
   "id": "384953a1-3306-4332-b923-da2d59158171",
   "metadata": {},
   "outputs": [],
   "source": []
  },
  {
   "cell_type": "code",
   "execution_count": null,
   "id": "5a32959c-a865-4020-8809-8c8c69f7f2ba",
   "metadata": {},
   "outputs": [],
   "source": []
  },
  {
   "cell_type": "code",
   "execution_count": 3,
   "id": "ecba37f5-b97f-435f-8d55-c7cd8f99a406",
   "metadata": {},
   "outputs": [
    {
     "data": {
      "text/plain": [
       "True"
      ]
     },
     "execution_count": 3,
     "metadata": {},
     "output_type": "execute_result"
    }
   ],
   "source": [
    "os.path.exists('/home/dilab/dilab_data/Thyroid Registration/Statistical Thyroid Model/Functional_maps_approach/data/out/with_only_train')    #Consider only training dataset thyroids (12 thyroids)"
   ]
  },
  {
   "cell_type": "code",
   "execution_count": null,
   "id": "606a96cf-796d-449c-b881-a44fdcdf62e3",
   "metadata": {},
   "outputs": [],
   "source": []
  },
  {
   "cell_type": "code",
   "execution_count": null,
   "id": "99b2acdf-d107-48c2-9b4d-4f166f319416",
   "metadata": {},
   "outputs": [],
   "source": []
  },
  {
   "cell_type": "code",
   "execution_count": null,
   "id": "fd171881-35a4-4300-91ec-b619caf0b286",
   "metadata": {},
   "outputs": [],
   "source": []
  },
  {
   "cell_type": "code",
   "execution_count": null,
   "id": "3f1d6a46-5ac3-4a0e-af42-e8f75a9ed04b",
   "metadata": {},
   "outputs": [],
   "source": []
  },
  {
   "cell_type": "code",
   "execution_count": null,
   "id": "602090b8-da44-4d1c-a413-1f37e9923ade",
   "metadata": {},
   "outputs": [],
   "source": []
  },
  {
   "cell_type": "code",
   "execution_count": null,
   "id": "e2620a60-714e-427f-8201-2ccf0c96e4e8",
   "metadata": {},
   "outputs": [],
   "source": []
  },
  {
   "cell_type": "code",
   "execution_count": null,
   "id": "acddb453-916e-4a10-9cbd-76bbf1145c58",
   "metadata": {},
   "outputs": [],
   "source": []
  },
  {
   "cell_type": "code",
   "execution_count": 27,
   "id": "e483b54c-8bab-4659-b9db-2b0e6d908033",
   "metadata": {},
   "outputs": [],
   "source": [
    "#   Setting directory\n",
    "\n",
    "basedir = '/home/dilab/dilab_data/Thyroid Registration/Statistical Thyroid Model/Functional_maps_approach/data/out/with_only_train'\n",
    "outdir_base = \"/home/dilab/dilab_data/data/data_ssmsdf\""
   ]
  },
  {
   "cell_type": "code",
   "execution_count": 41,
   "id": "d296c61c-88dd-4bb8-8bf6-5aa42cb56300",
   "metadata": {},
   "outputs": [],
   "source": [
    "def generateSSMsamp(numSSMsamp, std, basedir, outdir_base):\n",
    "    outdir = outdir_base + \"/std\" + str(std) + \"/sdf_train/\"\n",
    "    if (os.path.exists(outdir)):\n",
    "        generate_dataset.SSMsample2sdf(numSSMsamp, basedir, outdir, 0, 12 , std = std)\n",
    "    else:\n",
    "        print(\"check path\")"
   ]
  },
  {
   "cell_type": "code",
   "execution_count": 42,
   "id": "01364a76-7bb2-4678-acd3-280cd9db8d37",
   "metadata": {},
   "outputs": [
    {
     "name": "stdout",
     "output_type": "stream",
     "text": [
      "['out_0_0.mat', 'out_0_2.mat', 'out_0_4.mat', 'out_0_6.mat', 'out_0_8.mat', 'out_0_10.mat', 'out_0_12.mat', 'out_0_14.mat', 'out_0_16.mat', 'out_0_18.mat', 'out_0_20.mat', 'out_0_22.mat']\n",
      "rank of covariance matrix: 11\n",
      "[ 0.03627694 -0.03628411  0.30433666  0.32523462 -0.01944125  0.32267922\n",
      "  0.75961301 -0.67355968  0.15592979 -0.3479411  -0.4444838 ]\n"
     ]
    }
   ],
   "source": [
    "generateSSMsamp(500, 0.5, basedir, outdir_base)\n",
    "generateSSMsamp(500, 1, basedir, outdir_base)\n",
    "generateSSMsamp(500, 0.05, basedir, outdir_base)"
   ]
  },
  {
   "cell_type": "code",
   "execution_count": 13,
   "id": "25c72d3f-bfd1-495d-9672-b1ddcc99716f",
   "metadata": {},
   "outputs": [
    {
     "name": "stdout",
     "output_type": "stream",
     "text": [
      "['out_0_0.mat', 'out_0_2.mat', 'out_0_4.mat', 'out_0_6.mat', 'out_0_8.mat', 'out_0_10.mat', 'out_0_12.mat', 'out_0_14.mat', 'out_0_16.mat', 'out_0_18.mat', 'out_0_20.mat', 'out_0_22.mat']\n",
      "rank of covariance matrix: 11\n",
      "['out_0_0.mat', 'out_0_2.mat', 'out_0_4.mat', 'out_0_6.mat', 'out_0_8.mat', 'out_0_10.mat', 'out_0_12.mat', 'out_0_14.mat', 'out_0_16.mat', 'out_0_18.mat', 'out_0_20.mat', 'out_0_22.mat', 'out_0_24.mat', 'out_0_26.mat', 'out_0_28.mat', 'out_0_30.mat']\n",
      "rank of covariance matrix: 15\n"
     ]
    }
   ],
   "source": [
    "## mean shape sdf\n",
    "\n",
    "basedir_all = '/home/dilab/dilab_data/Thyroid Registration/Statistical Thyroid Model/Functional_maps_approach/data/out/2022_10_31_10_49_21/mat'\n",
    "\n",
    "\n",
    "outdirmean = outdir_base + \"/meansdf/\"\n",
    "if (os.path.exists(outdirmean)):\n",
    "    generate_dataset.SSMmean2sdf(basedir,basedir_all, outdirmean, 0, 12, 12, 14)\n",
    "else:\n",
    "    print(\"check path\")"
   ]
  },
  {
   "cell_type": "code",
   "execution_count": null,
   "id": "c35ee403-4749-4882-9242-81566fdae9e0",
   "metadata": {},
   "outputs": [],
   "source": []
  },
  {
   "cell_type": "code",
   "execution_count": 28,
   "id": "c007f545-d5ad-4b28-8eed-35c048ff7828",
   "metadata": {},
   "outputs": [
    {
     "data": {
      "text/plain": [
       "True"
      ]
     },
     "execution_count": 28,
     "metadata": {},
     "output_type": "execute_result"
    }
   ],
   "source": [
    "#used for only mean shape training\n",
    "\n",
    "basedir_all = '/home/dilab/dilab_data/Thyroid Registration/Statistical Thyroid Model/Functional_maps_approach/data/out/2022_10_31_10_49_21/mat'\n",
    "\n",
    "outdir = outdir_base + \"/meansdf_foronlymean/\"\n",
    "os.path.exists(outdir)"
   ]
  },
  {
   "cell_type": "code",
   "execution_count": 32,
   "id": "1e7c78a1-b135-4351-9a69-3a14391b2a50",
   "metadata": {},
   "outputs": [
    {
     "name": "stdout",
     "output_type": "stream",
     "text": [
      "['out_0_0.mat', 'out_0_2.mat', 'out_0_4.mat', 'out_0_6.mat', 'out_0_8.mat', 'out_0_10.mat', 'out_0_12.mat', 'out_0_14.mat', 'out_0_16.mat', 'out_0_18.mat', 'out_0_20.mat', 'out_0_22.mat']\n",
      "rank of covariance matrix: 11\n",
      "['out_0_0.mat', 'out_0_2.mat', 'out_0_4.mat', 'out_0_6.mat', 'out_0_8.mat', 'out_0_10.mat', 'out_0_12.mat', 'out_0_14.mat', 'out_0_16.mat', 'out_0_18.mat', 'out_0_20.mat', 'out_0_22.mat', 'out_0_24.mat', 'out_0_26.mat', 'out_0_28.mat', 'out_0_30.mat']\n",
      "rank of covariance matrix: 15\n"
     ]
    }
   ],
   "source": [
    "generate_dataset.SSMmean2sdf_foronlymean(basedir, basedir_all , outdir, 0, 14)"
   ]
  },
  {
   "cell_type": "code",
   "execution_count": null,
   "id": "33e1707c-a4e8-4fbd-b67e-dfffb222240b",
   "metadata": {},
   "outputs": [],
   "source": []
  },
  {
   "cell_type": "code",
   "execution_count": null,
   "id": "bad2cf86-ccf8-430a-b7ed-2506809486a6",
   "metadata": {},
   "outputs": [],
   "source": []
  },
  {
   "cell_type": "code",
   "execution_count": null,
   "id": "ec430d60-886b-44d8-b55f-d003b0796850",
   "metadata": {},
   "outputs": [],
   "source": []
  },
  {
   "cell_type": "code",
   "execution_count": 24,
   "id": "e1b8e5d6-8685-4218-b903-d971eb65df18",
   "metadata": {},
   "outputs": [],
   "source": [
    "## Original dataset sdf\n",
    "\n",
    "basedir_oridataset = \"/home/dilab/dilab_data/data/\"\n",
    "outdir_oridataset = \"/home/dilab/dilab_data/data/oridataset_sdf\"\n",
    "\n",
    "\n",
    "generate_dataset.generateSDForidataset(basedir_oridataset, \"/home/dilab/dilab_data/data/oridataset_sdf/sdf_val/\", 12, 14 )"
   ]
  },
  {
   "cell_type": "code",
   "execution_count": 25,
   "id": "8410be3d-0116-47eb-8ecd-032b54c338b6",
   "metadata": {},
   "outputs": [],
   "source": [
    "\n",
    "generate_dataset.generateSDForidataset(basedir_oridataset, \"/home/dilab/dilab_data/data/oridataset_sdf/sdf_train/\", 0 , 12 )"
   ]
  },
  {
   "cell_type": "code",
   "execution_count": 22,
   "id": "747b472e-c0d5-4cfd-bddd-bd8c59a074ac",
   "metadata": {},
   "outputs": [
    {
     "data": {
      "text/plain": [
       "True"
      ]
     },
     "execution_count": 22,
     "metadata": {},
     "output_type": "execute_result"
    }
   ],
   "source": [
    "os.path.exists(\"/home/dilab/dilab_data/data/oridataset_sdf/sdf_val\")"
   ]
  },
  {
   "cell_type": "code",
   "execution_count": 23,
   "id": "8d34f614-1c6e-472f-b38a-105fda1fe5bb",
   "metadata": {},
   "outputs": [
    {
     "data": {
      "text/plain": [
       "True"
      ]
     },
     "execution_count": 23,
     "metadata": {},
     "output_type": "execute_result"
    }
   ],
   "source": [
    "os.path.exists(basedir_oridataset)"
   ]
  },
  {
   "cell_type": "code",
   "execution_count": null,
   "id": "664caa47-f645-49ac-aca2-9d81fb9ab7e3",
   "metadata": {},
   "outputs": [],
   "source": []
  },
  {
   "cell_type": "code",
   "execution_count": null,
   "id": "21ae0c9c-a8e0-4630-9667-fcfedd872f91",
   "metadata": {},
   "outputs": [],
   "source": []
  },
  {
   "cell_type": "code",
   "execution_count": null,
   "id": "aeb9ac3a-76d3-438e-b2db-9b5a0c7c1c0c",
   "metadata": {},
   "outputs": [],
   "source": []
  },
  {
   "cell_type": "code",
   "execution_count": 14,
   "id": "4a120ed1-9551-41a9-8bf9-9ddf149240cd",
   "metadata": {},
   "outputs": [
    {
     "name": "stdout",
     "output_type": "stream",
     "text": [
      "torch.Size([2, 4950, 3])\n",
      "torch.Size([1, 4950, 3])\n"
     ]
    }
   ],
   "source": [
    "print(torch.load(f\"{outdir_base}/meansdf/corr_mesh_verts\").shape)\n",
    "print(torch.load(f\"{outdir_base}/meansdf/SSMverts\").shape)"
   ]
  },
  {
   "cell_type": "code",
   "execution_count": 15,
   "id": "ed6cf93e-c7c8-4301-a86d-f32737e4b303",
   "metadata": {},
   "outputs": [
    {
     "name": "stdout",
     "output_type": "stream",
     "text": [
      "torch.Size([12, 4950, 3])\n",
      "torch.Size([500, 4950, 3])\n"
     ]
    }
   ],
   "source": [
    "print(torch.load(f\"{outdir_base}/std0.5/sdf_train/corr_mesh_verts\").shape)\n",
    "print(torch.load(f\"{outdir_base}/std0.5/sdf_train/SSMverts\").shape)"
   ]
  },
  {
   "cell_type": "code",
   "execution_count": null,
   "id": "a959c26f-305f-458b-bd5c-6d9d1888bfae",
   "metadata": {},
   "outputs": [],
   "source": []
  },
  {
   "cell_type": "code",
   "execution_count": 2,
   "id": "1b7498db-6d20-4374-958c-a22b6f2f6b7f",
   "metadata": {},
   "outputs": [
    {
     "name": "stdout",
     "output_type": "stream",
     "text": [
      "exist path\n"
     ]
    }
   ],
   "source": [
    "if os.path.exists(\"/home/dilab/dilab_data/data/data_ssmsdf/oridataset_low_var_500samp/sdf_train/\"):\n",
    "    print(\"exist path\")"
   ]
  },
  {
   "cell_type": "code",
   "execution_count": null,
   "id": "5381fe11-3870-4527-9d50-1144164586b8",
   "metadata": {},
   "outputs": [
    {
     "name": "stdout",
     "output_type": "stream",
     "text": [
      "rank of covariance matrix: 15\n"
     ]
    }
   ],
   "source": [
    "## SDF generation\n",
    "numSSMsamp = 500\n",
    "\n",
    "################    SegThy dataset      #####################\n",
    "# basedir='/home/dilab/dilab_data/Thyroid Registration/Statistical Thyroid Model/Functional_maps_approach/data/out/2022_10_17_10_21_46/mat'\n",
    "\n",
    "\n",
    "################    original dataset      #####################\n",
    "\n",
    "basedir = '/home/dilab/dilab_data/Thyroid Registration/Statistical Thyroid Model/Functional_maps_approach/data/out/2022_10_31_10_49_21/mat'\n",
    "\n",
    "outdir =\"/home/dilab/dilab_data/data/data_ssmsdf/oridataset_low_var_500samp/sdf_train/\"\n",
    "\n",
    "ssm_thyroid_dataset.SSMsample2sdf(numSSMsamp, basedir, outdir, std=0.5)"
   ]
  },
  {
   "cell_type": "code",
   "execution_count": null,
   "id": "8979a190-0f15-4dc0-8832-45eb49521a52",
   "metadata": {},
   "outputs": [],
   "source": [
    "sdf_dir = f\"/home/dilab/dilab_data/data/data_ssmsdf/oridataset_low_var_500samp/sdf_train/\"\n",
    "ssm_vertices = torch.load(f\"{sdf_dir}/SSMverts\")\n",
    "us_mesh_vertices = torch.load(f\"{sdf_dir}/corr_mesh_verts\")\n",
    "ssm_vertices.shape, us_mesh_vertices.shape\n",
    "# ssm_vertices"
   ]
  },
  {
   "cell_type": "code",
   "execution_count": null,
   "id": "e7cf272d-b66e-45e0-8f5f-001504807c98",
   "metadata": {},
   "outputs": [],
   "source": [
    "# import trimesh\n",
    "# import numpy as np\n",
    "# us_dir = f\"/home/dilab/dilab_data/data\"\n",
    "\n",
    "# tot_vert = np.zeros((32, 4950,3))\n",
    "# for i in range(32):\n",
    "#     mesh_vert = trimesh.load(us_dir+'/'+str(i)+'.ply').vertices\n",
    "#     mesh_vert = np.array(mesh_vert[:4950])\n",
    "#     tot_vert[i] = mesh_vert\n",
    "# outdir = f\"/home/dilab/dilab_data/data/oridataset_sdf/sdf_train\"\n",
    "# torch.save(torch.tensor(tot_vert), outdir+\"corr_mesh_verts\")\n",
    "# torch.save(torch.tensor(tot_vert), outdir+\"SSMverts\")"
   ]
  },
  {
   "cell_type": "code",
   "execution_count": null,
   "id": "e9719174-88a0-465f-8d7d-60eecef4cfed",
   "metadata": {},
   "outputs": [],
   "source": []
  }
 ],
 "metadata": {
  "kernelspec": {
   "display_name": "dilab",
   "language": "python",
   "name": "dilab"
  },
  "language_info": {
   "codemirror_mode": {
    "name": "ipython",
    "version": 3
   },
   "file_extension": ".py",
   "mimetype": "text/x-python",
   "name": "python",
   "nbconvert_exporter": "python",
   "pygments_lexer": "ipython3",
   "version": "3.8.13"
  }
 },
 "nbformat": 4,
 "nbformat_minor": 5
}
