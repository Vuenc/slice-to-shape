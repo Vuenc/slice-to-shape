{
 "cells": [
  {
   "cell_type": "code",
   "execution_count": null,
   "id": "d1561fa5-6591-4a34-a658-b06a18a7a4d0",
   "metadata": {},
   "outputs": [
    {
     "name": "stdout",
     "output_type": "stream",
     "text": [
      "The autoreload extension is already loaded. To reload it, use:\n",
      "  %reload_ext autoreload\n"
     ]
    }
   ],
   "source": [
    "%load_ext autoreload\n",
    "%autoreload 2\n",
    "\n",
    "from typing import Tuple\n",
    "import torch\n",
    "from torch.utils import data\n",
    "import pathlib\n",
    "\n",
    "import numpy as np\n",
    "import math\n",
    "\n",
    "import os\n",
    "import numpy as np\n",
    "\n",
    "import nibabel as nib\n",
    "import random\n",
    "import sys\n",
    "\n",
    "from matfilegeneration import matfilegeneration\n",
    "import generate_dataset\n"
   ]
  },
  {
   "cell_type": "code",
   "execution_count": 8,
   "id": "364ec734-81b6-44ee-a242-ff8d0cb957ba",
   "metadata": {},
   "outputs": [],
   "source": [
    "USdatapath = '/media/storage/dilab_data/data'\n",
    "\n",
    "us_index_range_train = range(0, 24, 2)\n",
    "us_index_range_val = range(24, 32 , 2)\n",
    "us_index_range_all = range(0, 32, 2)\n",
    "\n",
    "UStrainmesh = [f\"{USdatapath}/{str(us_index)}.nii\" for us_index in us_index_range_train]\n",
    "USvalmesh = [f\"{USdatapath}/{str(us_index)}.nii\" for us_index in us_index_range_val]\n",
    "USallmesh = [f\"{USdatapath}/{str(us_index)}.nii\" for us_index in us_index_range_all]\n",
    "\n",
    "save_path = '/media/storage/dilab_data/data/corrsmatfile/'\n",
    "cfg_path = \"/media/storage/dilab_data/tum-data-lab/Statistical Thyroid Model/Functional_maps_approach/surfmnet/config/config.yml\""
   ]
  },
  {
   "cell_type": "code",
   "execution_count": 10,
   "id": "761fac5f-f3e9-470f-a84e-dc906fe9900a",
   "metadata": {},
   "outputs": [
    {
     "data": {
      "text/plain": [
       "True"
      ]
     },
     "execution_count": 10,
     "metadata": {},
     "output_type": "execute_result"
    }
   ],
   "source": [
    "import os\n",
    "os.path.exists(cfg_path)"
   ]
  },
  {
   "cell_type": "code",
   "execution_count": null,
   "id": "623beb97-32dc-4b3b-9712-db0abca34794",
   "metadata": {},
   "outputs": [],
   "source": [
    "\n",
    "\n",
    "\n",
    "# mat_savedir,cfg['TestingDetails']['ref_thyroid']\n",
    "A, B = ssm_pipeline(train_paths, val_paths, test_paths,val_indices, save_path, cfg_path)"
   ]
  },
  {
   "cell_type": "code",
   "execution_count": 2,
   "id": "ecba37f5-b97f-435f-8d55-c7cd8f99a406",
   "metadata": {},
   "outputs": [
    {
     "data": {
      "text/plain": [
       "False"
      ]
     },
     "execution_count": 2,
     "metadata": {},
     "output_type": "execute_result"
    }
   ],
   "source": [
    "os.path.exists('/home/dilab/dilab_data/Thyroid Registration/Statistical Thyroid Model/Functional_maps_approach/data/out/with_only_train')    #Consider only training dataset thyroids (12 thyroids)"
   ]
  },
  {
   "cell_type": "code",
   "execution_count": 27,
   "id": "e483b54c-8bab-4659-b9db-2b0e6d908033",
   "metadata": {},
   "outputs": [],
   "source": [
    "#   Setting directory\n",
    "\n",
    "basedir = '/home/dilab/dilab_data/Thyroid Registration/Statistical Thyroid Model/Functional_maps_approach/data/out/with_only_train'\n",
    "outdir_base = \"/home/dilab/dilab_data/data/data_ssmsdf\""
   ]
  },
  {
   "cell_type": "code",
   "execution_count": 41,
   "id": "d296c61c-88dd-4bb8-8bf6-5aa42cb56300",
   "metadata": {},
   "outputs": [],
   "source": [
    "def generateSSMsamp(numSSMsamp, std, basedir, outdir_base):\n",
    "    # generate samples from SSM -> SDF\n",
    "    outdir = outdir_base + \"/std\" + str(std) + \"/sdf_train/\"\n",
    "    if (os.path.exists(outdir)):\n",
    "        generate_dataset.SSMsample2sdf(numSSMsamp, basedir, outdir, 0, 12 , std = std)\n",
    "    else:\n",
    "        print(\"check path\")"
   ]
  },
  {
   "cell_type": "code",
   "execution_count": 42,
   "id": "01364a76-7bb2-4678-acd3-280cd9db8d37",
   "metadata": {},
   "outputs": [
    {
     "name": "stdout",
     "output_type": "stream",
     "text": [
      "['out_0_0.mat', 'out_0_2.mat', 'out_0_4.mat', 'out_0_6.mat', 'out_0_8.mat', 'out_0_10.mat', 'out_0_12.mat', 'out_0_14.mat', 'out_0_16.mat', 'out_0_18.mat', 'out_0_20.mat', 'out_0_22.mat']\n",
      "rank of covariance matrix: 11\n",
      "[ 0.03627694 -0.03628411  0.30433666  0.32523462 -0.01944125  0.32267922\n",
      "  0.75961301 -0.67355968  0.15592979 -0.3479411  -0.4444838 ]\n"
     ]
    }
   ],
   "source": [
    "generateSSMsamp(500, 0.5, basedir, outdir_base)\n",
    "generateSSMsamp(500, 1, basedir, outdir_base)\n",
    "generateSSMsamp(500, 0.05, basedir, outdir_base)"
   ]
  },
  {
   "cell_type": "code",
   "execution_count": 13,
   "id": "25c72d3f-bfd1-495d-9672-b1ddcc99716f",
   "metadata": {},
   "outputs": [
    {
     "name": "stdout",
     "output_type": "stream",
     "text": [
      "['out_0_0.mat', 'out_0_2.mat', 'out_0_4.mat', 'out_0_6.mat', 'out_0_8.mat', 'out_0_10.mat', 'out_0_12.mat', 'out_0_14.mat', 'out_0_16.mat', 'out_0_18.mat', 'out_0_20.mat', 'out_0_22.mat']\n",
      "rank of covariance matrix: 11\n",
      "['out_0_0.mat', 'out_0_2.mat', 'out_0_4.mat', 'out_0_6.mat', 'out_0_8.mat', 'out_0_10.mat', 'out_0_12.mat', 'out_0_14.mat', 'out_0_16.mat', 'out_0_18.mat', 'out_0_20.mat', 'out_0_22.mat', 'out_0_24.mat', 'out_0_26.mat', 'out_0_28.mat', 'out_0_30.mat']\n",
      "rank of covariance matrix: 15\n"
     ]
    }
   ],
   "source": [
    "## mean shape sdf\n",
    "\n",
    "basedir_all = '/home/dilab/dilab_data/Thyroid Registration/Statistical Thyroid Model/Functional_maps_approach/data/out/2022_10_31_10_49_21/mat'\n",
    "\n",
    "\n",
    "outdirmean = outdir_base + \"/meansdf/\"\n",
    "if (os.path.exists(outdirmean)):\n",
    "    generate_dataset.SSMmean2sdf(basedir,basedir_all, outdirmean, 0, 12, 12, 14)\n",
    "else:\n",
    "    print(\"check path\")"
   ]
  },
  {
   "cell_type": "code",
   "execution_count": null,
   "id": "c35ee403-4749-4882-9242-81566fdae9e0",
   "metadata": {},
   "outputs": [],
   "source": []
  },
  {
   "cell_type": "code",
   "execution_count": 28,
   "id": "c007f545-d5ad-4b28-8eed-35c048ff7828",
   "metadata": {},
   "outputs": [
    {
     "data": {
      "text/plain": [
       "True"
      ]
     },
     "execution_count": 28,
     "metadata": {},
     "output_type": "execute_result"
    }
   ],
   "source": [
    "#used for only mean shape training\n",
    "\n",
    "basedir_all = '/home/dilab/dilab_data/Thyroid Registration/Statistical Thyroid Model/Functional_maps_approach/data/out/2022_10_31_10_49_21/mat'\n",
    "\n",
    "outdir = outdir_base + \"/meansdf_foronlymean/\"\n",
    "os.path.exists(outdir)"
   ]
  },
  {
   "cell_type": "code",
   "execution_count": 32,
   "id": "1e7c78a1-b135-4351-9a69-3a14391b2a50",
   "metadata": {},
   "outputs": [
    {
     "name": "stdout",
     "output_type": "stream",
     "text": [
      "['out_0_0.mat', 'out_0_2.mat', 'out_0_4.mat', 'out_0_6.mat', 'out_0_8.mat', 'out_0_10.mat', 'out_0_12.mat', 'out_0_14.mat', 'out_0_16.mat', 'out_0_18.mat', 'out_0_20.mat', 'out_0_22.mat']\n",
      "rank of covariance matrix: 11\n",
      "['out_0_0.mat', 'out_0_2.mat', 'out_0_4.mat', 'out_0_6.mat', 'out_0_8.mat', 'out_0_10.mat', 'out_0_12.mat', 'out_0_14.mat', 'out_0_16.mat', 'out_0_18.mat', 'out_0_20.mat', 'out_0_22.mat', 'out_0_24.mat', 'out_0_26.mat', 'out_0_28.mat', 'out_0_30.mat']\n",
      "rank of covariance matrix: 15\n"
     ]
    }
   ],
   "source": [
    "generate_dataset.SSMmean2sdf_foronlymean(basedir, basedir_all , outdir, 0, 14)"
   ]
  },
  {
   "cell_type": "code",
   "execution_count": null,
   "id": "33e1707c-a4e8-4fbd-b67e-dfffb222240b",
   "metadata": {},
   "outputs": [],
   "source": []
  },
  {
   "cell_type": "code",
   "execution_count": null,
   "id": "bad2cf86-ccf8-430a-b7ed-2506809486a6",
   "metadata": {},
   "outputs": [],
   "source": []
  },
  {
   "cell_type": "code",
   "execution_count": null,
   "id": "ec430d60-886b-44d8-b55f-d003b0796850",
   "metadata": {},
   "outputs": [],
   "source": []
  },
  {
   "cell_type": "code",
   "execution_count": 24,
   "id": "e1b8e5d6-8685-4218-b903-d971eb65df18",
   "metadata": {},
   "outputs": [],
   "source": [
    "## Original dataset sdf\n",
    "\n",
    "basedir_oridataset = \"/home/dilab/dilab_data/data/\"\n",
    "outdir_oridataset = \"/home/dilab/dilab_data/data/oridataset_sdf\"\n",
    "\n",
    "\n",
    "generate_dataset.generateSDForidataset(basedir_oridataset, \"/home/dilab/dilab_data/data/oridataset_sdf/sdf_val/\", 12, 14 )"
   ]
  },
  {
   "cell_type": "code",
   "execution_count": 25,
   "id": "8410be3d-0116-47eb-8ecd-032b54c338b6",
   "metadata": {},
   "outputs": [],
   "source": [
    "\n",
    "generate_dataset.generateSDForidataset(basedir_oridataset, \"/home/dilab/dilab_data/data/oridataset_sdf/sdf_train/\", 0 , 12 )"
   ]
  },
  {
   "cell_type": "code",
   "execution_count": 22,
   "id": "747b472e-c0d5-4cfd-bddd-bd8c59a074ac",
   "metadata": {},
   "outputs": [
    {
     "data": {
      "text/plain": [
       "True"
      ]
     },
     "execution_count": 22,
     "metadata": {},
     "output_type": "execute_result"
    }
   ],
   "source": [
    "os.path.exists(\"/home/dilab/dilab_data/data/oridataset_sdf/sdf_val\")"
   ]
  },
  {
   "cell_type": "code",
   "execution_count": 23,
   "id": "8d34f614-1c6e-472f-b38a-105fda1fe5bb",
   "metadata": {},
   "outputs": [
    {
     "data": {
      "text/plain": [
       "True"
      ]
     },
     "execution_count": 23,
     "metadata": {},
     "output_type": "execute_result"
    }
   ],
   "source": [
    "os.path.exists(basedir_oridataset)"
   ]
  },
  {
   "cell_type": "code",
   "execution_count": null,
   "id": "664caa47-f645-49ac-aca2-9d81fb9ab7e3",
   "metadata": {},
   "outputs": [],
   "source": []
  },
  {
   "cell_type": "code",
   "execution_count": null,
   "id": "21ae0c9c-a8e0-4630-9667-fcfedd872f91",
   "metadata": {},
   "outputs": [],
   "source": []
  },
  {
   "cell_type": "code",
   "execution_count": null,
   "id": "aeb9ac3a-76d3-438e-b2db-9b5a0c7c1c0c",
   "metadata": {},
   "outputs": [],
   "source": []
  },
  {
   "cell_type": "code",
   "execution_count": 14,
   "id": "4a120ed1-9551-41a9-8bf9-9ddf149240cd",
   "metadata": {},
   "outputs": [
    {
     "name": "stdout",
     "output_type": "stream",
     "text": [
      "torch.Size([2, 4950, 3])\n",
      "torch.Size([1, 4950, 3])\n"
     ]
    }
   ],
   "source": [
    "print(torch.load(f\"{outdir_base}/meansdf/corr_mesh_verts\").shape)\n",
    "print(torch.load(f\"{outdir_base}/meansdf/SSMverts\").shape)"
   ]
  },
  {
   "cell_type": "code",
   "execution_count": 15,
   "id": "ed6cf93e-c7c8-4301-a86d-f32737e4b303",
   "metadata": {},
   "outputs": [
    {
     "name": "stdout",
     "output_type": "stream",
     "text": [
      "torch.Size([12, 4950, 3])\n",
      "torch.Size([500, 4950, 3])\n"
     ]
    }
   ],
   "source": [
    "print(torch.load(f\"{outdir_base}/std0.5/sdf_train/corr_mesh_verts\").shape)\n",
    "print(torch.load(f\"{outdir_base}/std0.5/sdf_train/SSMverts\").shape)"
   ]
  },
  {
   "cell_type": "code",
   "execution_count": null,
   "id": "a959c26f-305f-458b-bd5c-6d9d1888bfae",
   "metadata": {},
   "outputs": [],
   "source": []
  },
  {
   "cell_type": "code",
   "execution_count": 2,
   "id": "1b7498db-6d20-4374-958c-a22b6f2f6b7f",
   "metadata": {},
   "outputs": [
    {
     "name": "stdout",
     "output_type": "stream",
     "text": [
      "exist path\n"
     ]
    }
   ],
   "source": [
    "if os.path.exists(\"/home/dilab/dilab_data/data/data_ssmsdf/oridataset_low_var_500samp/sdf_train/\"):\n",
    "    print(\"exist path\")"
   ]
  },
  {
   "cell_type": "code",
   "execution_count": null,
   "id": "5381fe11-3870-4527-9d50-1144164586b8",
   "metadata": {},
   "outputs": [
    {
     "name": "stdout",
     "output_type": "stream",
     "text": [
      "rank of covariance matrix: 15\n"
     ]
    }
   ],
   "source": [
    "## SDF generation\n",
    "numSSMsamp = 500\n",
    "\n",
    "################    SegThy dataset      #####################\n",
    "# basedir='/home/dilab/dilab_data/Thyroid Registration/Statistical Thyroid Model/Functional_maps_approach/data/out/2022_10_17_10_21_46/mat'\n",
    "\n",
    "\n",
    "################    original dataset      #####################\n",
    "\n",
    "basedir = '/home/dilab/dilab_data/Thyroid Registration/Statistical Thyroid Model/Functional_maps_approach/data/out/2022_10_31_10_49_21/mat'\n",
    "\n",
    "outdir =\"/home/dilab/dilab_data/data/data_ssmsdf/oridataset_low_var_500samp/sdf_train/\"\n",
    "\n",
    "ssm_thyroid_dataset.SSMsample2sdf(numSSMsamp, basedir, outdir, std=0.5)"
   ]
  },
  {
   "cell_type": "code",
   "execution_count": null,
   "id": "8979a190-0f15-4dc0-8832-45eb49521a52",
   "metadata": {},
   "outputs": [],
   "source": [
    "sdf_dir = f\"/home/dilab/dilab_data/data/data_ssmsdf/oridataset_low_var_500samp/sdf_train/\"\n",
    "ssm_vertices = torch.load(f\"{sdf_dir}/SSMverts\")\n",
    "us_mesh_vertices = torch.load(f\"{sdf_dir}/corr_mesh_verts\")\n",
    "ssm_vertices.shape, us_mesh_vertices.shape\n",
    "# ssm_vertices"
   ]
  },
  {
   "cell_type": "code",
   "execution_count": null,
   "id": "e7cf272d-b66e-45e0-8f5f-001504807c98",
   "metadata": {},
   "outputs": [],
   "source": [
    "# import trimesh\n",
    "# import numpy as np\n",
    "# us_dir = f\"/home/dilab/dilab_data/data\"\n",
    "\n",
    "# tot_vert = np.zeros((32, 4950,3))\n",
    "# for i in range(32):\n",
    "#     mesh_vert = trimesh.load(us_dir+'/'+str(i)+'.ply').vertices\n",
    "#     mesh_vert = np.array(mesh_vert[:4950])\n",
    "#     tot_vert[i] = mesh_vert\n",
    "# outdir = f\"/home/dilab/dilab_data/data/oridataset_sdf/sdf_train\"\n",
    "# torch.save(torch.tensor(tot_vert), outdir+\"corr_mesh_verts\")\n",
    "# torch.save(torch.tensor(tot_vert), outdir+\"SSMverts\")"
   ]
  },
  {
   "cell_type": "code",
   "execution_count": null,
   "id": "e9719174-88a0-465f-8d7d-60eecef4cfed",
   "metadata": {},
   "outputs": [],
   "source": []
  }
 ],
 "metadata": {
  "kernelspec": {
   "display_name": "Python 3 (ipykernel)",
   "language": "python",
   "name": "python3"
  },
  "language_info": {
   "codemirror_mode": {
    "name": "ipython",
    "version": 3
   },
   "file_extension": ".py",
   "mimetype": "text/x-python",
   "name": "python",
   "nbconvert_exporter": "python",
   "pygments_lexer": "ipython3",
   "version": "3.8.13"
  }
 },
 "nbformat": 4,
 "nbformat_minor": 5
}
